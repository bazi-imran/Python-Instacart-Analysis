{
 "cells": [
  {
   "cell_type": "markdown",
   "id": "d70df2cd",
   "metadata": {},
   "source": [
    "# 01.Importing Libraries"
   ]
  },
  {
   "cell_type": "code",
   "execution_count": 1,
   "id": "c2bbf221",
   "metadata": {},
   "outputs": [],
   "source": [
    "# import libraries \n",
    "import pandas as pd\n",
    "import numpy as np\n",
    "import os"
   ]
  },
  {
   "cell_type": "markdown",
   "id": "1e979d1e",
   "metadata": {},
   "source": [
    "# 02. Data Type"
   ]
  },
  {
   "cell_type": "code",
   "execution_count": 2,
   "id": "e1a91451",
   "metadata": {},
   "outputs": [],
   "source": [
    "# 4.2 Question 7"
   ]
  },
  {
   "cell_type": "code",
   "execution_count": 3,
   "id": "4689d43f",
   "metadata": {},
   "outputs": [
    {
     "data": {
      "text/plain": [
       "100"
      ]
     },
     "execution_count": 3,
     "metadata": {},
     "output_type": "execute_result"
    }
   ],
   "source": [
    "a = 50\n",
    "b = a * 2\n",
    "b"
   ]
  },
  {
   "cell_type": "code",
   "execution_count": 4,
   "id": "8e06d9b0",
   "metadata": {},
   "outputs": [
    {
     "data": {
      "text/plain": [
       "100.0"
      ]
     },
     "execution_count": 4,
     "metadata": {},
     "output_type": "execute_result"
    }
   ],
   "source": [
    "c = 400\n",
    "d = c / 4\n",
    "d"
   ]
  },
  {
   "cell_type": "code",
   "execution_count": 5,
   "id": "5fc75884",
   "metadata": {},
   "outputs": [
    {
     "data": {
      "text/plain": [
       "100"
      ]
     },
     "execution_count": 5,
     "metadata": {},
     "output_type": "execute_result"
    }
   ],
   "source": [
    "(450 - a) + (2*a) - c"
   ]
  },
  {
   "cell_type": "code",
   "execution_count": 6,
   "id": "3c54c0cd",
   "metadata": {},
   "outputs": [],
   "source": [
    "# 4.2 Question 8"
   ]
  },
  {
   "cell_type": "code",
   "execution_count": 7,
   "id": "652edf06",
   "metadata": {},
   "outputs": [
    {
     "data": {
      "text/plain": [
       "5.0712"
      ]
     },
     "execution_count": 7,
     "metadata": {},
     "output_type": "execute_result"
    }
   ],
   "source": [
    "apple = 12.678\n",
    "cobler = 2.500\n",
    "dessert = apple / cobler \n",
    "dessert\n"
   ]
  },
  {
   "cell_type": "code",
   "execution_count": 8,
   "id": "79536b4d",
   "metadata": {},
   "outputs": [],
   "source": [
    "# 4.2 Question 9"
   ]
  },
  {
   "cell_type": "code",
   "execution_count": 9,
   "id": "765ca346",
   "metadata": {},
   "outputs": [
    {
     "data": {
      "text/plain": [
       "'Delightfully'"
      ]
     },
     "execution_count": 9,
     "metadata": {},
     "output_type": "execute_result"
    }
   ],
   "source": [
    "base_word = 'Delight'\n",
    "suffix = 'fully'\n",
    "final_word = base_word + suffix\n",
    "final_word"
   ]
  },
  {
   "cell_type": "code",
   "execution_count": 10,
   "id": "7ff54b57",
   "metadata": {},
   "outputs": [],
   "source": [
    "# 4.2 Question 10"
   ]
  },
  {
   "cell_type": "code",
   "execution_count": 11,
   "id": "91fb82cc",
   "metadata": {},
   "outputs": [
    {
     "data": {
      "text/plain": [
       "'Happy New Year! I am so excited to learn Python.'"
      ]
     },
     "execution_count": 11,
     "metadata": {},
     "output_type": "execute_result"
    }
   ],
   "source": [
    "a = 'Happy'\n",
    "b = ' '\n",
    "c = 'New'\n",
    "d = '!'\n",
    "e = 'I'\n",
    "f = 'am'\n",
    "g = 'so'\n",
    "h = 'excited'\n",
    "i = 'to'\n",
    "j = 'learn'\n",
    "l = 'Python'\n",
    "k = '.'\n",
    "m = 'Year'\n",
    "first_sentence = a+b+c+b+m+d\n",
    "second_sentence = b+e+b+f+b+g+b+h+b+i+b+j+b+l+k\n",
    "final_sentence = first_sentence + second_sentence\n",
    "final_sentence\n"
   ]
  },
  {
   "cell_type": "code",
   "execution_count": null,
   "id": "75b2a42d",
   "metadata": {},
   "outputs": [],
   "source": []
  }
 ],
 "metadata": {
  "kernelspec": {
   "display_name": "Python 3 (ipykernel)",
   "language": "python",
   "name": "python3"
  },
  "language_info": {
   "codemirror_mode": {
    "name": "ipython",
    "version": 3
   },
   "file_extension": ".py",
   "mimetype": "text/x-python",
   "name": "python",
   "nbconvert_exporter": "python",
   "pygments_lexer": "ipython3",
   "version": "3.11.5"
  }
 },
 "nbformat": 4,
 "nbformat_minor": 5
}
