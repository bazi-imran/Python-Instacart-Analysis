{
 "cells": [
  {
   "cell_type": "markdown",
   "id": "faf97b3c",
   "metadata": {},
   "source": [
    "# Import Libraries"
   ]
  },
  {
   "cell_type": "code",
   "execution_count": 1,
   "id": "789047a6",
   "metadata": {},
   "outputs": [],
   "source": [
    "import pandas as pd\n",
    "import numpy as np\n",
    "import os\n",
    "import matplotlib.pyplot as plt\n",
    "import seaborn as sns\n",
    "import scipy"
   ]
  },
  {
   "cell_type": "code",
   "execution_count": 2,
   "id": "14303509",
   "metadata": {},
   "outputs": [],
   "source": [
    "path = r'/Users/bazillaimran/Documents/02-2023 Instacart Basket Analysis/02 Data'"
   ]
  },
  {
   "cell_type": "code",
   "execution_count": 3,
   "id": "e3d1b74f",
   "metadata": {},
   "outputs": [],
   "source": [
    "df_customers = pd.read_csv(os.path.join(path,'Original Data','customers.csv'))"
   ]
  },
  {
   "cell_type": "markdown",
   "id": "b44895c5",
   "metadata": {},
   "source": [
    "# Data Wrangling: rename columns with logical names and drop unwanted columns "
   ]
  },
  {
   "cell_type": "code",
   "execution_count": 4,
   "id": "024114d6",
   "metadata": {},
   "outputs": [
    {
     "data": {
      "text/html": [
       "<div>\n",
       "<style scoped>\n",
       "    .dataframe tbody tr th:only-of-type {\n",
       "        vertical-align: middle;\n",
       "    }\n",
       "\n",
       "    .dataframe tbody tr th {\n",
       "        vertical-align: top;\n",
       "    }\n",
       "\n",
       "    .dataframe thead th {\n",
       "        text-align: right;\n",
       "    }\n",
       "</style>\n",
       "<table border=\"1\" class=\"dataframe\">\n",
       "  <thead>\n",
       "    <tr style=\"text-align: right;\">\n",
       "      <th></th>\n",
       "      <th>user_id</th>\n",
       "      <th>First Name</th>\n",
       "      <th>Surnam</th>\n",
       "      <th>Gender</th>\n",
       "      <th>STATE</th>\n",
       "      <th>Age</th>\n",
       "      <th>date_joined</th>\n",
       "      <th>n_dependants</th>\n",
       "      <th>fam_status</th>\n",
       "      <th>income</th>\n",
       "    </tr>\n",
       "  </thead>\n",
       "  <tbody>\n",
       "    <tr>\n",
       "      <th>0</th>\n",
       "      <td>26711</td>\n",
       "      <td>Deborah</td>\n",
       "      <td>Esquivel</td>\n",
       "      <td>Female</td>\n",
       "      <td>Missouri</td>\n",
       "      <td>48</td>\n",
       "      <td>1/1/2017</td>\n",
       "      <td>3</td>\n",
       "      <td>married</td>\n",
       "      <td>165665</td>\n",
       "    </tr>\n",
       "    <tr>\n",
       "      <th>1</th>\n",
       "      <td>33890</td>\n",
       "      <td>Patricia</td>\n",
       "      <td>Hart</td>\n",
       "      <td>Female</td>\n",
       "      <td>New Mexico</td>\n",
       "      <td>36</td>\n",
       "      <td>1/1/2017</td>\n",
       "      <td>0</td>\n",
       "      <td>single</td>\n",
       "      <td>59285</td>\n",
       "    </tr>\n",
       "    <tr>\n",
       "      <th>2</th>\n",
       "      <td>65803</td>\n",
       "      <td>Kenneth</td>\n",
       "      <td>Farley</td>\n",
       "      <td>Male</td>\n",
       "      <td>Idaho</td>\n",
       "      <td>35</td>\n",
       "      <td>1/1/2017</td>\n",
       "      <td>2</td>\n",
       "      <td>married</td>\n",
       "      <td>99568</td>\n",
       "    </tr>\n",
       "    <tr>\n",
       "      <th>3</th>\n",
       "      <td>125935</td>\n",
       "      <td>Michelle</td>\n",
       "      <td>Hicks</td>\n",
       "      <td>Female</td>\n",
       "      <td>Iowa</td>\n",
       "      <td>40</td>\n",
       "      <td>1/1/2017</td>\n",
       "      <td>0</td>\n",
       "      <td>single</td>\n",
       "      <td>42049</td>\n",
       "    </tr>\n",
       "    <tr>\n",
       "      <th>4</th>\n",
       "      <td>130797</td>\n",
       "      <td>Ann</td>\n",
       "      <td>Gilmore</td>\n",
       "      <td>Female</td>\n",
       "      <td>Maryland</td>\n",
       "      <td>26</td>\n",
       "      <td>1/1/2017</td>\n",
       "      <td>1</td>\n",
       "      <td>married</td>\n",
       "      <td>40374</td>\n",
       "    </tr>\n",
       "  </tbody>\n",
       "</table>\n",
       "</div>"
      ],
      "text/plain": [
       "   user_id First Name    Surnam  Gender       STATE  Age date_joined  \\\n",
       "0    26711    Deborah  Esquivel  Female    Missouri   48    1/1/2017   \n",
       "1    33890   Patricia      Hart  Female  New Mexico   36    1/1/2017   \n",
       "2    65803    Kenneth    Farley    Male       Idaho   35    1/1/2017   \n",
       "3   125935   Michelle     Hicks  Female        Iowa   40    1/1/2017   \n",
       "4   130797        Ann   Gilmore  Female    Maryland   26    1/1/2017   \n",
       "\n",
       "   n_dependants fam_status  income  \n",
       "0             3    married  165665  \n",
       "1             0     single   59285  \n",
       "2             2    married   99568  \n",
       "3             0     single   42049  \n",
       "4             1    married   40374  "
      ]
     },
     "execution_count": 4,
     "metadata": {},
     "output_type": "execute_result"
    }
   ],
   "source": [
    "df_customers.head()"
   ]
  },
  {
   "cell_type": "code",
   "execution_count": 5,
   "id": "c3d2334a",
   "metadata": {},
   "outputs": [
    {
     "data": {
      "text/plain": [
       "(206209, 10)"
      ]
     },
     "execution_count": 5,
     "metadata": {},
     "output_type": "execute_result"
    }
   ],
   "source": [
    "df_customers.shape"
   ]
  },
  {
   "cell_type": "code",
   "execution_count": 6,
   "id": "b64aa49a",
   "metadata": {},
   "outputs": [],
   "source": [
    "# rename columns\n",
    "df_customers.rename(columns = {'Surnam':'Last Name','fam_status':'family_status','STATE':'State','n_dependants':'dependants'}, inplace = True)"
   ]
  },
  {
   "cell_type": "code",
   "execution_count": 7,
   "id": "8fdf36a5",
   "metadata": {},
   "outputs": [
    {
     "data": {
      "text/html": [
       "<div>\n",
       "<style scoped>\n",
       "    .dataframe tbody tr th:only-of-type {\n",
       "        vertical-align: middle;\n",
       "    }\n",
       "\n",
       "    .dataframe tbody tr th {\n",
       "        vertical-align: top;\n",
       "    }\n",
       "\n",
       "    .dataframe thead th {\n",
       "        text-align: right;\n",
       "    }\n",
       "</style>\n",
       "<table border=\"1\" class=\"dataframe\">\n",
       "  <thead>\n",
       "    <tr style=\"text-align: right;\">\n",
       "      <th></th>\n",
       "      <th>user_id</th>\n",
       "      <th>First Name</th>\n",
       "      <th>Last Name</th>\n",
       "      <th>Gender</th>\n",
       "      <th>State</th>\n",
       "      <th>Age</th>\n",
       "      <th>date_joined</th>\n",
       "      <th>dependants</th>\n",
       "      <th>family_status</th>\n",
       "      <th>income</th>\n",
       "    </tr>\n",
       "  </thead>\n",
       "  <tbody>\n",
       "    <tr>\n",
       "      <th>0</th>\n",
       "      <td>26711</td>\n",
       "      <td>Deborah</td>\n",
       "      <td>Esquivel</td>\n",
       "      <td>Female</td>\n",
       "      <td>Missouri</td>\n",
       "      <td>48</td>\n",
       "      <td>1/1/2017</td>\n",
       "      <td>3</td>\n",
       "      <td>married</td>\n",
       "      <td>165665</td>\n",
       "    </tr>\n",
       "    <tr>\n",
       "      <th>1</th>\n",
       "      <td>33890</td>\n",
       "      <td>Patricia</td>\n",
       "      <td>Hart</td>\n",
       "      <td>Female</td>\n",
       "      <td>New Mexico</td>\n",
       "      <td>36</td>\n",
       "      <td>1/1/2017</td>\n",
       "      <td>0</td>\n",
       "      <td>single</td>\n",
       "      <td>59285</td>\n",
       "    </tr>\n",
       "    <tr>\n",
       "      <th>2</th>\n",
       "      <td>65803</td>\n",
       "      <td>Kenneth</td>\n",
       "      <td>Farley</td>\n",
       "      <td>Male</td>\n",
       "      <td>Idaho</td>\n",
       "      <td>35</td>\n",
       "      <td>1/1/2017</td>\n",
       "      <td>2</td>\n",
       "      <td>married</td>\n",
       "      <td>99568</td>\n",
       "    </tr>\n",
       "    <tr>\n",
       "      <th>3</th>\n",
       "      <td>125935</td>\n",
       "      <td>Michelle</td>\n",
       "      <td>Hicks</td>\n",
       "      <td>Female</td>\n",
       "      <td>Iowa</td>\n",
       "      <td>40</td>\n",
       "      <td>1/1/2017</td>\n",
       "      <td>0</td>\n",
       "      <td>single</td>\n",
       "      <td>42049</td>\n",
       "    </tr>\n",
       "    <tr>\n",
       "      <th>4</th>\n",
       "      <td>130797</td>\n",
       "      <td>Ann</td>\n",
       "      <td>Gilmore</td>\n",
       "      <td>Female</td>\n",
       "      <td>Maryland</td>\n",
       "      <td>26</td>\n",
       "      <td>1/1/2017</td>\n",
       "      <td>1</td>\n",
       "      <td>married</td>\n",
       "      <td>40374</td>\n",
       "    </tr>\n",
       "  </tbody>\n",
       "</table>\n",
       "</div>"
      ],
      "text/plain": [
       "   user_id First Name Last Name  Gender       State  Age date_joined  \\\n",
       "0    26711    Deborah  Esquivel  Female    Missouri   48    1/1/2017   \n",
       "1    33890   Patricia      Hart  Female  New Mexico   36    1/1/2017   \n",
       "2    65803    Kenneth    Farley    Male       Idaho   35    1/1/2017   \n",
       "3   125935   Michelle     Hicks  Female        Iowa   40    1/1/2017   \n",
       "4   130797        Ann   Gilmore  Female    Maryland   26    1/1/2017   \n",
       "\n",
       "   dependants family_status  income  \n",
       "0           3       married  165665  \n",
       "1           0        single   59285  \n",
       "2           2       married   99568  \n",
       "3           0        single   42049  \n",
       "4           1       married   40374  "
      ]
     },
     "execution_count": 7,
     "metadata": {},
     "output_type": "execute_result"
    }
   ],
   "source": [
    "df_customers.head()"
   ]
  },
  {
   "cell_type": "markdown",
   "id": "3d3f0527",
   "metadata": {},
   "source": [
    "All columns contain valuable information, there is no necessity to eliminate any of them."
   ]
  },
  {
   "cell_type": "markdown",
   "id": "474505bd",
   "metadata": {},
   "source": [
    "# Data quality and consistency checks: missing values, duplicates, and mixed-data conversion"
   ]
  },
  {
   "cell_type": "code",
   "execution_count": 8,
   "id": "f4a907f9",
   "metadata": {},
   "outputs": [
    {
     "data": {
      "text/html": [
       "<div>\n",
       "<style scoped>\n",
       "    .dataframe tbody tr th:only-of-type {\n",
       "        vertical-align: middle;\n",
       "    }\n",
       "\n",
       "    .dataframe tbody tr th {\n",
       "        vertical-align: top;\n",
       "    }\n",
       "\n",
       "    .dataframe thead th {\n",
       "        text-align: right;\n",
       "    }\n",
       "</style>\n",
       "<table border=\"1\" class=\"dataframe\">\n",
       "  <thead>\n",
       "    <tr style=\"text-align: right;\">\n",
       "      <th></th>\n",
       "      <th>user_id</th>\n",
       "      <th>Age</th>\n",
       "      <th>dependants</th>\n",
       "      <th>income</th>\n",
       "    </tr>\n",
       "  </thead>\n",
       "  <tbody>\n",
       "    <tr>\n",
       "      <th>count</th>\n",
       "      <td>206209.000000</td>\n",
       "      <td>206209.000000</td>\n",
       "      <td>206209.000000</td>\n",
       "      <td>206209.000000</td>\n",
       "    </tr>\n",
       "    <tr>\n",
       "      <th>mean</th>\n",
       "      <td>103105.000000</td>\n",
       "      <td>49.501646</td>\n",
       "      <td>1.499823</td>\n",
       "      <td>94632.852548</td>\n",
       "    </tr>\n",
       "    <tr>\n",
       "      <th>std</th>\n",
       "      <td>59527.555167</td>\n",
       "      <td>18.480962</td>\n",
       "      <td>1.118433</td>\n",
       "      <td>42473.786988</td>\n",
       "    </tr>\n",
       "    <tr>\n",
       "      <th>min</th>\n",
       "      <td>1.000000</td>\n",
       "      <td>18.000000</td>\n",
       "      <td>0.000000</td>\n",
       "      <td>25903.000000</td>\n",
       "    </tr>\n",
       "    <tr>\n",
       "      <th>25%</th>\n",
       "      <td>51553.000000</td>\n",
       "      <td>33.000000</td>\n",
       "      <td>0.000000</td>\n",
       "      <td>59874.000000</td>\n",
       "    </tr>\n",
       "    <tr>\n",
       "      <th>50%</th>\n",
       "      <td>103105.000000</td>\n",
       "      <td>49.000000</td>\n",
       "      <td>1.000000</td>\n",
       "      <td>93547.000000</td>\n",
       "    </tr>\n",
       "    <tr>\n",
       "      <th>75%</th>\n",
       "      <td>154657.000000</td>\n",
       "      <td>66.000000</td>\n",
       "      <td>3.000000</td>\n",
       "      <td>124244.000000</td>\n",
       "    </tr>\n",
       "    <tr>\n",
       "      <th>max</th>\n",
       "      <td>206209.000000</td>\n",
       "      <td>81.000000</td>\n",
       "      <td>3.000000</td>\n",
       "      <td>593901.000000</td>\n",
       "    </tr>\n",
       "  </tbody>\n",
       "</table>\n",
       "</div>"
      ],
      "text/plain": [
       "             user_id            Age     dependants         income\n",
       "count  206209.000000  206209.000000  206209.000000  206209.000000\n",
       "mean   103105.000000      49.501646       1.499823   94632.852548\n",
       "std     59527.555167      18.480962       1.118433   42473.786988\n",
       "min         1.000000      18.000000       0.000000   25903.000000\n",
       "25%     51553.000000      33.000000       0.000000   59874.000000\n",
       "50%    103105.000000      49.000000       1.000000   93547.000000\n",
       "75%    154657.000000      66.000000       3.000000  124244.000000\n",
       "max    206209.000000      81.000000       3.000000  593901.000000"
      ]
     },
     "execution_count": 8,
     "metadata": {},
     "output_type": "execute_result"
    }
   ],
   "source": [
    "df_customers.describe()"
   ]
  },
  {
   "cell_type": "markdown",
   "id": "11cfc702",
   "metadata": {},
   "source": [
    "Income column: If the mean and median are close in value, it suggests that the income distribution is relatively symmetric. In other words, the data is evenly distributed around the center."
   ]
  },
  {
   "cell_type": "code",
   "execution_count": 9,
   "id": "83a75517",
   "metadata": {},
   "outputs": [],
   "source": [
    "# Address mixed-data types"
   ]
  },
  {
   "cell_type": "code",
   "execution_count": 10,
   "id": "8a824f65",
   "metadata": {},
   "outputs": [
    {
     "name": "stdout",
     "output_type": "stream",
     "text": [
      "<class 'pandas.core.frame.DataFrame'>\n",
      "RangeIndex: 206209 entries, 0 to 206208\n",
      "Data columns (total 10 columns):\n",
      " #   Column         Non-Null Count   Dtype \n",
      "---  ------         --------------   ----- \n",
      " 0   user_id        206209 non-null  int64 \n",
      " 1   First Name     194950 non-null  object\n",
      " 2   Last Name      206209 non-null  object\n",
      " 3   Gender         206209 non-null  object\n",
      " 4   State          206209 non-null  object\n",
      " 5   Age            206209 non-null  int64 \n",
      " 6   date_joined    206209 non-null  object\n",
      " 7   dependants     206209 non-null  int64 \n",
      " 8   family_status  206209 non-null  object\n",
      " 9   income         206209 non-null  int64 \n",
      "dtypes: int64(4), object(6)\n",
      "memory usage: 15.7+ MB\n"
     ]
    }
   ],
   "source": [
    "df_customers.info()"
   ]
  },
  {
   "cell_type": "markdown",
   "id": "ac9d5730",
   "metadata": {},
   "source": [
    "No mixed datatype in each column. However, a more appropriate data type for the date_joined column would be datetime data type."
   ]
  },
  {
   "cell_type": "code",
   "execution_count": 11,
   "id": "4395af9f",
   "metadata": {},
   "outputs": [],
   "source": [
    "# Change data type for object to datetime for date_joined column\n",
    "df_customers['date_joined'] = pd.to_datetime(df_customers['date_joined'])"
   ]
  },
  {
   "cell_type": "code",
   "execution_count": 12,
   "id": "010a9b74",
   "metadata": {},
   "outputs": [
    {
     "name": "stdout",
     "output_type": "stream",
     "text": [
      "<class 'pandas.core.frame.DataFrame'>\n",
      "RangeIndex: 206209 entries, 0 to 206208\n",
      "Data columns (total 10 columns):\n",
      " #   Column         Non-Null Count   Dtype         \n",
      "---  ------         --------------   -----         \n",
      " 0   user_id        206209 non-null  int64         \n",
      " 1   First Name     194950 non-null  object        \n",
      " 2   Last Name      206209 non-null  object        \n",
      " 3   Gender         206209 non-null  object        \n",
      " 4   State          206209 non-null  object        \n",
      " 5   Age            206209 non-null  int64         \n",
      " 6   date_joined    206209 non-null  datetime64[ns]\n",
      " 7   dependants     206209 non-null  int64         \n",
      " 8   family_status  206209 non-null  object        \n",
      " 9   income         206209 non-null  int64         \n",
      "dtypes: datetime64[ns](1), int64(4), object(5)\n",
      "memory usage: 15.7+ MB\n"
     ]
    }
   ],
   "source": [
    "df_customers.info()"
   ]
  },
  {
   "cell_type": "code",
   "execution_count": 13,
   "id": "6320ae1e",
   "metadata": {},
   "outputs": [],
   "source": [
    "# Check for duplicates\n",
    "# extracting duplicate from df_customers and store it in dataframe df_dups\n",
    "df_dups = df_customers[df_customers.duplicated()]"
   ]
  },
  {
   "cell_type": "code",
   "execution_count": 14,
   "id": "745e2793",
   "metadata": {},
   "outputs": [
    {
     "data": {
      "text/html": [
       "<div>\n",
       "<style scoped>\n",
       "    .dataframe tbody tr th:only-of-type {\n",
       "        vertical-align: middle;\n",
       "    }\n",
       "\n",
       "    .dataframe tbody tr th {\n",
       "        vertical-align: top;\n",
       "    }\n",
       "\n",
       "    .dataframe thead th {\n",
       "        text-align: right;\n",
       "    }\n",
       "</style>\n",
       "<table border=\"1\" class=\"dataframe\">\n",
       "  <thead>\n",
       "    <tr style=\"text-align: right;\">\n",
       "      <th></th>\n",
       "      <th>user_id</th>\n",
       "      <th>First Name</th>\n",
       "      <th>Last Name</th>\n",
       "      <th>Gender</th>\n",
       "      <th>State</th>\n",
       "      <th>Age</th>\n",
       "      <th>date_joined</th>\n",
       "      <th>dependants</th>\n",
       "      <th>family_status</th>\n",
       "      <th>income</th>\n",
       "    </tr>\n",
       "  </thead>\n",
       "  <tbody>\n",
       "  </tbody>\n",
       "</table>\n",
       "</div>"
      ],
      "text/plain": [
       "Empty DataFrame\n",
       "Columns: [user_id, First Name, Last Name, Gender, State, Age, date_joined, dependants, family_status, income]\n",
       "Index: []"
      ]
     },
     "execution_count": 14,
     "metadata": {},
     "output_type": "execute_result"
    }
   ],
   "source": [
    "df_dups"
   ]
  },
  {
   "cell_type": "markdown",
   "id": "8ef9ab91",
   "metadata": {},
   "source": [
    "No duplicates found."
   ]
  },
  {
   "cell_type": "code",
   "execution_count": 15,
   "id": "980b5ce8",
   "metadata": {},
   "outputs": [
    {
     "data": {
      "text/plain": [
       "user_id              0\n",
       "First Name       11259\n",
       "Last Name            0\n",
       "Gender               0\n",
       "State                0\n",
       "Age                  0\n",
       "date_joined          0\n",
       "dependants           0\n",
       "family_status        0\n",
       "income               0\n",
       "dtype: int64"
      ]
     },
     "execution_count": 15,
     "metadata": {},
     "output_type": "execute_result"
    }
   ],
   "source": [
    "# Check for missing values\n",
    "df_customers.isnull().sum()"
   ]
  },
  {
   "cell_type": "markdown",
   "id": "1986fac7",
   "metadata": {},
   "source": [
    "The output shows there are 11259 missing values in the First Name column."
   ]
  },
  {
   "cell_type": "code",
   "execution_count": 16,
   "id": "7bd16759",
   "metadata": {},
   "outputs": [],
   "source": [
    "# Viewing missing values: create a subset of the dataframe containing only the missing values\n",
    "df_nan=df_customers[df_customers['First Name'].isnull()==True]"
   ]
  },
  {
   "cell_type": "code",
   "execution_count": 17,
   "id": "1793f305",
   "metadata": {},
   "outputs": [
    {
     "data": {
      "text/html": [
       "<div>\n",
       "<style scoped>\n",
       "    .dataframe tbody tr th:only-of-type {\n",
       "        vertical-align: middle;\n",
       "    }\n",
       "\n",
       "    .dataframe tbody tr th {\n",
       "        vertical-align: top;\n",
       "    }\n",
       "\n",
       "    .dataframe thead th {\n",
       "        text-align: right;\n",
       "    }\n",
       "</style>\n",
       "<table border=\"1\" class=\"dataframe\">\n",
       "  <thead>\n",
       "    <tr style=\"text-align: right;\">\n",
       "      <th></th>\n",
       "      <th>user_id</th>\n",
       "      <th>First Name</th>\n",
       "      <th>Last Name</th>\n",
       "      <th>Gender</th>\n",
       "      <th>State</th>\n",
       "      <th>Age</th>\n",
       "      <th>date_joined</th>\n",
       "      <th>dependants</th>\n",
       "      <th>family_status</th>\n",
       "      <th>income</th>\n",
       "    </tr>\n",
       "  </thead>\n",
       "  <tbody>\n",
       "    <tr>\n",
       "      <th>53</th>\n",
       "      <td>76659</td>\n",
       "      <td>NaN</td>\n",
       "      <td>Gilbert</td>\n",
       "      <td>Male</td>\n",
       "      <td>Colorado</td>\n",
       "      <td>26</td>\n",
       "      <td>2017-01-01</td>\n",
       "      <td>2</td>\n",
       "      <td>married</td>\n",
       "      <td>41709</td>\n",
       "    </tr>\n",
       "    <tr>\n",
       "      <th>73</th>\n",
       "      <td>13738</td>\n",
       "      <td>NaN</td>\n",
       "      <td>Frost</td>\n",
       "      <td>Female</td>\n",
       "      <td>Louisiana</td>\n",
       "      <td>39</td>\n",
       "      <td>2017-01-01</td>\n",
       "      <td>0</td>\n",
       "      <td>single</td>\n",
       "      <td>82518</td>\n",
       "    </tr>\n",
       "    <tr>\n",
       "      <th>82</th>\n",
       "      <td>89996</td>\n",
       "      <td>NaN</td>\n",
       "      <td>Dawson</td>\n",
       "      <td>Female</td>\n",
       "      <td>Oregon</td>\n",
       "      <td>52</td>\n",
       "      <td>2017-01-01</td>\n",
       "      <td>3</td>\n",
       "      <td>married</td>\n",
       "      <td>117099</td>\n",
       "    </tr>\n",
       "    <tr>\n",
       "      <th>99</th>\n",
       "      <td>96166</td>\n",
       "      <td>NaN</td>\n",
       "      <td>Oconnor</td>\n",
       "      <td>Male</td>\n",
       "      <td>Oklahoma</td>\n",
       "      <td>51</td>\n",
       "      <td>2017-01-01</td>\n",
       "      <td>1</td>\n",
       "      <td>married</td>\n",
       "      <td>155673</td>\n",
       "    </tr>\n",
       "    <tr>\n",
       "      <th>105</th>\n",
       "      <td>29778</td>\n",
       "      <td>NaN</td>\n",
       "      <td>Dawson</td>\n",
       "      <td>Female</td>\n",
       "      <td>Utah</td>\n",
       "      <td>63</td>\n",
       "      <td>2017-01-01</td>\n",
       "      <td>3</td>\n",
       "      <td>married</td>\n",
       "      <td>151819</td>\n",
       "    </tr>\n",
       "    <tr>\n",
       "      <th>...</th>\n",
       "      <td>...</td>\n",
       "      <td>...</td>\n",
       "      <td>...</td>\n",
       "      <td>...</td>\n",
       "      <td>...</td>\n",
       "      <td>...</td>\n",
       "      <td>...</td>\n",
       "      <td>...</td>\n",
       "      <td>...</td>\n",
       "      <td>...</td>\n",
       "    </tr>\n",
       "    <tr>\n",
       "      <th>206038</th>\n",
       "      <td>121317</td>\n",
       "      <td>NaN</td>\n",
       "      <td>Melton</td>\n",
       "      <td>Male</td>\n",
       "      <td>Pennsylvania</td>\n",
       "      <td>28</td>\n",
       "      <td>2020-03-31</td>\n",
       "      <td>3</td>\n",
       "      <td>married</td>\n",
       "      <td>87783</td>\n",
       "    </tr>\n",
       "    <tr>\n",
       "      <th>206044</th>\n",
       "      <td>200799</td>\n",
       "      <td>NaN</td>\n",
       "      <td>Copeland</td>\n",
       "      <td>Female</td>\n",
       "      <td>Hawaii</td>\n",
       "      <td>52</td>\n",
       "      <td>2020-04-01</td>\n",
       "      <td>2</td>\n",
       "      <td>married</td>\n",
       "      <td>108488</td>\n",
       "    </tr>\n",
       "    <tr>\n",
       "      <th>206090</th>\n",
       "      <td>167394</td>\n",
       "      <td>NaN</td>\n",
       "      <td>Frost</td>\n",
       "      <td>Female</td>\n",
       "      <td>Hawaii</td>\n",
       "      <td>61</td>\n",
       "      <td>2020-04-01</td>\n",
       "      <td>1</td>\n",
       "      <td>married</td>\n",
       "      <td>45275</td>\n",
       "    </tr>\n",
       "    <tr>\n",
       "      <th>206162</th>\n",
       "      <td>187532</td>\n",
       "      <td>NaN</td>\n",
       "      <td>Floyd</td>\n",
       "      <td>Female</td>\n",
       "      <td>California</td>\n",
       "      <td>39</td>\n",
       "      <td>2020-04-01</td>\n",
       "      <td>0</td>\n",
       "      <td>single</td>\n",
       "      <td>56325</td>\n",
       "    </tr>\n",
       "    <tr>\n",
       "      <th>206171</th>\n",
       "      <td>116898</td>\n",
       "      <td>NaN</td>\n",
       "      <td>Delgado</td>\n",
       "      <td>Female</td>\n",
       "      <td>Colorado</td>\n",
       "      <td>23</td>\n",
       "      <td>2020-04-01</td>\n",
       "      <td>2</td>\n",
       "      <td>married</td>\n",
       "      <td>59222</td>\n",
       "    </tr>\n",
       "  </tbody>\n",
       "</table>\n",
       "<p>11259 rows × 10 columns</p>\n",
       "</div>"
      ],
      "text/plain": [
       "        user_id First Name Last Name  Gender         State  Age date_joined  \\\n",
       "53        76659        NaN   Gilbert    Male      Colorado   26  2017-01-01   \n",
       "73        13738        NaN     Frost  Female     Louisiana   39  2017-01-01   \n",
       "82        89996        NaN    Dawson  Female        Oregon   52  2017-01-01   \n",
       "99        96166        NaN   Oconnor    Male      Oklahoma   51  2017-01-01   \n",
       "105       29778        NaN    Dawson  Female          Utah   63  2017-01-01   \n",
       "...         ...        ...       ...     ...           ...  ...         ...   \n",
       "206038   121317        NaN    Melton    Male  Pennsylvania   28  2020-03-31   \n",
       "206044   200799        NaN  Copeland  Female        Hawaii   52  2020-04-01   \n",
       "206090   167394        NaN     Frost  Female        Hawaii   61  2020-04-01   \n",
       "206162   187532        NaN     Floyd  Female    California   39  2020-04-01   \n",
       "206171   116898        NaN   Delgado  Female      Colorado   23  2020-04-01   \n",
       "\n",
       "        dependants family_status  income  \n",
       "53               2       married   41709  \n",
       "73               0        single   82518  \n",
       "82               3       married  117099  \n",
       "99               1       married  155673  \n",
       "105              3       married  151819  \n",
       "...            ...           ...     ...  \n",
       "206038           3       married   87783  \n",
       "206044           2       married  108488  \n",
       "206090           1       married   45275  \n",
       "206162           0        single   56325  \n",
       "206171           2       married   59222  \n",
       "\n",
       "[11259 rows x 10 columns]"
      ]
     },
     "execution_count": 17,
     "metadata": {},
     "output_type": "execute_result"
    }
   ],
   "source": [
    "df_nan"
   ]
  },
  {
   "cell_type": "markdown",
   "id": "178a850e",
   "metadata": {},
   "source": [
    "Since the missing information is only in the \"First Name\" column for 11,259 rows, it's better to keep them. Deleting these rows could make our data less reliable, so it's a good idea to leave them as they are. This way, we keep more data and make sure our analysis is based on as much information as possible. However, we can enhance the comprehensibility of our data by replacing these missing values with 'Unknown'."
   ]
  },
  {
   "cell_type": "code",
   "execution_count": 18,
   "id": "e6aa08dc",
   "metadata": {},
   "outputs": [],
   "source": [
    "# replace NaN with Unknown\n",
    "df_customers['First Name'].fillna('Unknown', inplace = True)"
   ]
  },
  {
   "cell_type": "code",
   "execution_count": 19,
   "id": "65d33530",
   "metadata": {},
   "outputs": [
    {
     "data": {
      "text/plain": [
       "user_id          0\n",
       "First Name       0\n",
       "Last Name        0\n",
       "Gender           0\n",
       "State            0\n",
       "Age              0\n",
       "date_joined      0\n",
       "dependants       0\n",
       "family_status    0\n",
       "income           0\n",
       "dtype: int64"
      ]
     },
     "execution_count": 19,
     "metadata": {},
     "output_type": "execute_result"
    }
   ],
   "source": [
    "df_customers.isnull().sum()"
   ]
  },
  {
   "cell_type": "code",
   "execution_count": 20,
   "id": "0512a6f0",
   "metadata": {},
   "outputs": [
    {
     "data": {
      "text/plain": [
       "First Name\n",
       "Unknown    11259\n",
       "Marilyn     2213\n",
       "Barbara     2154\n",
       "Todd        2113\n",
       "Jeremy      2104\n",
       "           ...  \n",
       "Merry        197\n",
       "Eugene       197\n",
       "Garry        191\n",
       "Ned          186\n",
       "David        186\n",
       "Name: count, Length: 208, dtype: int64"
      ]
     },
     "execution_count": 20,
     "metadata": {},
     "output_type": "execute_result"
    }
   ],
   "source": [
    "df_customers['First Name'].value_counts()"
   ]
  },
  {
   "cell_type": "markdown",
   "id": "f8d415d4",
   "metadata": {},
   "source": [
    "# Combining customer data with prepared data\n"
   ]
  },
  {
   "cell_type": "code",
   "execution_count": 21,
   "id": "e37d9e7c",
   "metadata": {},
   "outputs": [],
   "source": [
    "# Load prepared data\n",
    "df_all=pd.read_pickle(os.path.join(path, 'Prepared Data', 'ords_prods_grouped.pkl'))"
   ]
  },
  {
   "cell_type": "code",
   "execution_count": 22,
   "id": "82b9a1b8",
   "metadata": {},
   "outputs": [
    {
     "data": {
      "text/plain": [
       "(206209, 10)"
      ]
     },
     "execution_count": 22,
     "metadata": {},
     "output_type": "execute_result"
    }
   ],
   "source": [
    "# Combine df_cutomer with df_all\n",
    "# Check shape of df_customer\n",
    "df_customers.shape"
   ]
  },
  {
   "cell_type": "code",
   "execution_count": 23,
   "id": "1e49476e",
   "metadata": {},
   "outputs": [
    {
     "data": {
      "text/plain": [
       "(32404859, 24)"
      ]
     },
     "execution_count": 23,
     "metadata": {},
     "output_type": "execute_result"
    }
   ],
   "source": [
    "# Check shape of df_all\n",
    "df_all.shape"
   ]
  },
  {
   "cell_type": "code",
   "execution_count": 24,
   "id": "26902dad",
   "metadata": {},
   "outputs": [
    {
     "name": "stdout",
     "output_type": "stream",
     "text": [
      "<class 'pandas.core.frame.DataFrame'>\n",
      "RangeIndex: 32404859 entries, 0 to 32404858\n",
      "Data columns (total 24 columns):\n",
      " #   Column                  Dtype   \n",
      "---  ------                  -----   \n",
      " 0   product_id              int64   \n",
      " 1   product_name            object  \n",
      " 2   aisle_id                int64   \n",
      " 3   department_id           int64   \n",
      " 4   prices                  float64 \n",
      " 5   order_id                int64   \n",
      " 6   user_id                 int64   \n",
      " 7   order_number            int64   \n",
      " 8   orders_day_of_week      int64   \n",
      " 9   order_hour_of_day       int64   \n",
      " 10  days_since_prior_order  float64 \n",
      " 11  add_to_cart_order       int64   \n",
      " 12  reordered               int64   \n",
      " 13  _merge                  category\n",
      " 14  price_range_loc         object  \n",
      " 15  busiest_day             object  \n",
      " 16  busiest_days            object  \n",
      " 17  busiest_period_of_day   object  \n",
      " 18  max_order               int64   \n",
      " 19  loyalty_flag            object  \n",
      " 20  average_spend           float64 \n",
      " 21  spender_flag            object  \n",
      " 22  Customer_frequency      float64 \n",
      " 23  frequency_flag          object  \n",
      "dtypes: category(1), float64(4), int64(11), object(8)\n",
      "memory usage: 5.6+ GB\n"
     ]
    }
   ],
   "source": [
    "# check data type and determine a suitable way to combine the 2 dataframes\n",
    "df_all.info()"
   ]
  },
  {
   "cell_type": "code",
   "execution_count": 25,
   "id": "5c5e7d4c",
   "metadata": {},
   "outputs": [
    {
     "name": "stdout",
     "output_type": "stream",
     "text": [
      "<class 'pandas.core.frame.DataFrame'>\n",
      "RangeIndex: 206209 entries, 0 to 206208\n",
      "Data columns (total 10 columns):\n",
      " #   Column         Non-Null Count   Dtype         \n",
      "---  ------         --------------   -----         \n",
      " 0   user_id        206209 non-null  int64         \n",
      " 1   First Name     206209 non-null  object        \n",
      " 2   Last Name      206209 non-null  object        \n",
      " 3   Gender         206209 non-null  object        \n",
      " 4   State          206209 non-null  object        \n",
      " 5   Age            206209 non-null  int64         \n",
      " 6   date_joined    206209 non-null  datetime64[ns]\n",
      " 7   dependants     206209 non-null  int64         \n",
      " 8   family_status  206209 non-null  object        \n",
      " 9   income         206209 non-null  int64         \n",
      "dtypes: datetime64[ns](1), int64(4), object(5)\n",
      "memory usage: 15.7+ MB\n"
     ]
    }
   ],
   "source": [
    "df_customers.info()"
   ]
  },
  {
   "cell_type": "code",
   "execution_count": 26,
   "id": "74aff18d",
   "metadata": {},
   "outputs": [],
   "source": [
    "# Drop _merge columns in df_all (not necessary) \n",
    "df_all = df_all.drop(columns = ['_merge'])"
   ]
  },
  {
   "cell_type": "markdown",
   "id": "c3cc9736",
   "metadata": {},
   "source": [
    "Merge the to dataframes by using the user_id columns (same data type of int64). "
   ]
  },
  {
   "cell_type": "code",
   "execution_count": 27,
   "id": "41a13941",
   "metadata": {},
   "outputs": [],
   "source": [
    "# Merge by column user_id since it's present in both dataframes \n",
    "ords_prods_customers_merged = df_all.merge(df_customers, on = 'user_id', indicator = True)"
   ]
  },
  {
   "cell_type": "code",
   "execution_count": 28,
   "id": "edd26998",
   "metadata": {},
   "outputs": [
    {
     "data": {
      "text/html": [
       "<div>\n",
       "<style scoped>\n",
       "    .dataframe tbody tr th:only-of-type {\n",
       "        vertical-align: middle;\n",
       "    }\n",
       "\n",
       "    .dataframe tbody tr th {\n",
       "        vertical-align: top;\n",
       "    }\n",
       "\n",
       "    .dataframe thead th {\n",
       "        text-align: right;\n",
       "    }\n",
       "</style>\n",
       "<table border=\"1\" class=\"dataframe\">\n",
       "  <thead>\n",
       "    <tr style=\"text-align: right;\">\n",
       "      <th></th>\n",
       "      <th>product_id</th>\n",
       "      <th>product_name</th>\n",
       "      <th>aisle_id</th>\n",
       "      <th>department_id</th>\n",
       "      <th>prices</th>\n",
       "      <th>order_id</th>\n",
       "      <th>user_id</th>\n",
       "      <th>order_number</th>\n",
       "      <th>orders_day_of_week</th>\n",
       "      <th>order_hour_of_day</th>\n",
       "      <th>...</th>\n",
       "      <th>First Name</th>\n",
       "      <th>Last Name</th>\n",
       "      <th>Gender</th>\n",
       "      <th>State</th>\n",
       "      <th>Age</th>\n",
       "      <th>date_joined</th>\n",
       "      <th>dependants</th>\n",
       "      <th>family_status</th>\n",
       "      <th>income</th>\n",
       "      <th>_merge</th>\n",
       "    </tr>\n",
       "  </thead>\n",
       "  <tbody>\n",
       "    <tr>\n",
       "      <th>0</th>\n",
       "      <td>1</td>\n",
       "      <td>Chocolate Sandwich Cookies</td>\n",
       "      <td>61</td>\n",
       "      <td>19</td>\n",
       "      <td>5.8</td>\n",
       "      <td>3139998</td>\n",
       "      <td>138</td>\n",
       "      <td>28</td>\n",
       "      <td>6</td>\n",
       "      <td>11</td>\n",
       "      <td>...</td>\n",
       "      <td>Charles</td>\n",
       "      <td>Cox</td>\n",
       "      <td>Male</td>\n",
       "      <td>Minnesota</td>\n",
       "      <td>81</td>\n",
       "      <td>2019-08-01</td>\n",
       "      <td>1</td>\n",
       "      <td>married</td>\n",
       "      <td>49620</td>\n",
       "      <td>both</td>\n",
       "    </tr>\n",
       "    <tr>\n",
       "      <th>1</th>\n",
       "      <td>1</td>\n",
       "      <td>Chocolate Sandwich Cookies</td>\n",
       "      <td>61</td>\n",
       "      <td>19</td>\n",
       "      <td>5.8</td>\n",
       "      <td>1977647</td>\n",
       "      <td>138</td>\n",
       "      <td>30</td>\n",
       "      <td>6</td>\n",
       "      <td>17</td>\n",
       "      <td>...</td>\n",
       "      <td>Charles</td>\n",
       "      <td>Cox</td>\n",
       "      <td>Male</td>\n",
       "      <td>Minnesota</td>\n",
       "      <td>81</td>\n",
       "      <td>2019-08-01</td>\n",
       "      <td>1</td>\n",
       "      <td>married</td>\n",
       "      <td>49620</td>\n",
       "      <td>both</td>\n",
       "    </tr>\n",
       "    <tr>\n",
       "      <th>2</th>\n",
       "      <td>907</td>\n",
       "      <td>Premium Sliced Bacon</td>\n",
       "      <td>106</td>\n",
       "      <td>12</td>\n",
       "      <td>20.0</td>\n",
       "      <td>3160996</td>\n",
       "      <td>138</td>\n",
       "      <td>1</td>\n",
       "      <td>5</td>\n",
       "      <td>13</td>\n",
       "      <td>...</td>\n",
       "      <td>Charles</td>\n",
       "      <td>Cox</td>\n",
       "      <td>Male</td>\n",
       "      <td>Minnesota</td>\n",
       "      <td>81</td>\n",
       "      <td>2019-08-01</td>\n",
       "      <td>1</td>\n",
       "      <td>married</td>\n",
       "      <td>49620</td>\n",
       "      <td>both</td>\n",
       "    </tr>\n",
       "    <tr>\n",
       "      <th>3</th>\n",
       "      <td>907</td>\n",
       "      <td>Premium Sliced Bacon</td>\n",
       "      <td>106</td>\n",
       "      <td>12</td>\n",
       "      <td>20.0</td>\n",
       "      <td>2254091</td>\n",
       "      <td>138</td>\n",
       "      <td>10</td>\n",
       "      <td>5</td>\n",
       "      <td>14</td>\n",
       "      <td>...</td>\n",
       "      <td>Charles</td>\n",
       "      <td>Cox</td>\n",
       "      <td>Male</td>\n",
       "      <td>Minnesota</td>\n",
       "      <td>81</td>\n",
       "      <td>2019-08-01</td>\n",
       "      <td>1</td>\n",
       "      <td>married</td>\n",
       "      <td>49620</td>\n",
       "      <td>both</td>\n",
       "    </tr>\n",
       "    <tr>\n",
       "      <th>4</th>\n",
       "      <td>1000</td>\n",
       "      <td>Apricots</td>\n",
       "      <td>18</td>\n",
       "      <td>10</td>\n",
       "      <td>12.9</td>\n",
       "      <td>505689</td>\n",
       "      <td>138</td>\n",
       "      <td>9</td>\n",
       "      <td>6</td>\n",
       "      <td>12</td>\n",
       "      <td>...</td>\n",
       "      <td>Charles</td>\n",
       "      <td>Cox</td>\n",
       "      <td>Male</td>\n",
       "      <td>Minnesota</td>\n",
       "      <td>81</td>\n",
       "      <td>2019-08-01</td>\n",
       "      <td>1</td>\n",
       "      <td>married</td>\n",
       "      <td>49620</td>\n",
       "      <td>both</td>\n",
       "    </tr>\n",
       "  </tbody>\n",
       "</table>\n",
       "<p>5 rows × 33 columns</p>\n",
       "</div>"
      ],
      "text/plain": [
       "   product_id                product_name  aisle_id  department_id  prices  \\\n",
       "0           1  Chocolate Sandwich Cookies        61             19     5.8   \n",
       "1           1  Chocolate Sandwich Cookies        61             19     5.8   \n",
       "2         907        Premium Sliced Bacon       106             12    20.0   \n",
       "3         907        Premium Sliced Bacon       106             12    20.0   \n",
       "4        1000                    Apricots        18             10    12.9   \n",
       "\n",
       "   order_id  user_id  order_number  orders_day_of_week  order_hour_of_day  \\\n",
       "0   3139998      138            28                   6                 11   \n",
       "1   1977647      138            30                   6                 17   \n",
       "2   3160996      138             1                   5                 13   \n",
       "3   2254091      138            10                   5                 14   \n",
       "4    505689      138             9                   6                 12   \n",
       "\n",
       "   ...  First Name  Last Name  Gender      State Age date_joined dependants  \\\n",
       "0  ...     Charles        Cox    Male  Minnesota  81  2019-08-01          1   \n",
       "1  ...     Charles        Cox    Male  Minnesota  81  2019-08-01          1   \n",
       "2  ...     Charles        Cox    Male  Minnesota  81  2019-08-01          1   \n",
       "3  ...     Charles        Cox    Male  Minnesota  81  2019-08-01          1   \n",
       "4  ...     Charles        Cox    Male  Minnesota  81  2019-08-01          1   \n",
       "\n",
       "   family_status income  _merge  \n",
       "0        married  49620    both  \n",
       "1        married  49620    both  \n",
       "2        married  49620    both  \n",
       "3        married  49620    both  \n",
       "4        married  49620    both  \n",
       "\n",
       "[5 rows x 33 columns]"
      ]
     },
     "execution_count": 28,
     "metadata": {},
     "output_type": "execute_result"
    }
   ],
   "source": [
    "# Confirm the results of the merge using the merge flag.\n",
    "ords_prods_customers_merged.head()"
   ]
  },
  {
   "cell_type": "code",
   "execution_count": 29,
   "id": "1c6f7f25",
   "metadata": {},
   "outputs": [
    {
     "data": {
      "text/plain": [
       "_merge\n",
       "both          32404859\n",
       "left_only            0\n",
       "right_only           0\n",
       "Name: count, dtype: int64"
      ]
     },
     "execution_count": 29,
     "metadata": {},
     "output_type": "execute_result"
    }
   ],
   "source": [
    "#Checking the values in the _merge column using merge flag\n",
    "ords_prods_customers_merged['_merge'].value_counts()"
   ]
  },
  {
   "cell_type": "code",
   "execution_count": 30,
   "id": "8e42a445",
   "metadata": {},
   "outputs": [
    {
     "data": {
      "text/plain": [
       "(32404859, 33)"
      ]
     },
     "execution_count": 30,
     "metadata": {},
     "output_type": "execute_result"
    }
   ],
   "source": [
    "ords_prods_customers_merged.shape"
   ]
  },
  {
   "cell_type": "markdown",
   "id": "5ec87c33",
   "metadata": {},
   "source": [
    "# Exporting New Dataframe as a pickle file"
   ]
  },
  {
   "cell_type": "code",
   "execution_count": 31,
   "id": "0b176599",
   "metadata": {},
   "outputs": [],
   "source": [
    "ords_prods_customers_merged = ords_prods_customers_merged.to_pickle(os.path.join(path,'Prepared Data', 'ords_prods_customers_merged.pkl'))"
   ]
  }
 ],
 "metadata": {
  "kernelspec": {
   "display_name": "Python 3 (ipykernel)",
   "language": "python",
   "name": "python3"
  },
  "language_info": {
   "codemirror_mode": {
    "name": "ipython",
    "version": 3
   },
   "file_extension": ".py",
   "mimetype": "text/x-python",
   "name": "python",
   "nbconvert_exporter": "python",
   "pygments_lexer": "ipython3",
   "version": "3.11.5"
  }
 },
 "nbformat": 4,
 "nbformat_minor": 5
}
